{
  "nbformat": 4,
  "nbformat_minor": 0,
  "metadata": {
    "colab": {
      "provenance": [],
      "name": "prophet.ipynb"
    },
    "kernelspec": {
      "name": "python3",
      "display_name": "Python 3"
    },
    "language_info": {
      "name": "python"
    }
  },
  "cells": [
    {
      "cell_type": "code",
      "source": [
        "!pip install requests-html"
      ],
      "metadata": {
        "id": "kRxhBcMecO8w",
        "colab": {
          "base_uri": "https://localhost:8080/"
        },
        "outputId": "181b3b17-3571-472d-f0a0-70f8953c0cea"
      },
      "execution_count": null,
      "outputs": [
        {
          "output_type": "stream",
          "name": "stdout",
          "text": [
            "Collecting requests-html\n",
            "  Downloading requests_html-0.10.0-py3-none-any.whl (13 kB)\n",
            "Requirement already satisfied: requests in /usr/local/lib/python3.10/dist-packages (from requests-html) (2.31.0)\n",
            "Collecting pyquery (from requests-html)\n",
            "  Downloading pyquery-2.0.0-py3-none-any.whl (22 kB)\n",
            "Collecting fake-useragent (from requests-html)\n",
            "  Downloading fake_useragent-1.5.1-py3-none-any.whl (17 kB)\n",
            "Collecting parse (from requests-html)\n",
            "  Downloading parse-1.20.1-py2.py3-none-any.whl (20 kB)\n",
            "Collecting bs4 (from requests-html)\n",
            "  Downloading bs4-0.0.2-py2.py3-none-any.whl (1.2 kB)\n",
            "Collecting w3lib (from requests-html)\n",
            "  Downloading w3lib-2.1.2-py3-none-any.whl (21 kB)\n",
            "Collecting pyppeteer>=0.0.14 (from requests-html)\n",
            "  Downloading pyppeteer-2.0.0-py3-none-any.whl (82 kB)\n",
            "\u001b[2K     \u001b[90m━━━━━━━━━━━━━━━━━━━━━━━━━━━━━━━━━━━━━━━━\u001b[0m \u001b[32m82.9/82.9 kB\u001b[0m \u001b[31m3.8 MB/s\u001b[0m eta \u001b[36m0:00:00\u001b[0m\n",
            "\u001b[?25hRequirement already satisfied: appdirs<2.0.0,>=1.4.3 in /usr/local/lib/python3.10/dist-packages (from pyppeteer>=0.0.14->requests-html) (1.4.4)\n",
            "Requirement already satisfied: certifi>=2023 in /usr/local/lib/python3.10/dist-packages (from pyppeteer>=0.0.14->requests-html) (2024.2.2)\n",
            "Requirement already satisfied: importlib-metadata>=1.4 in /usr/local/lib/python3.10/dist-packages (from pyppeteer>=0.0.14->requests-html) (7.1.0)\n",
            "Collecting pyee<12.0.0,>=11.0.0 (from pyppeteer>=0.0.14->requests-html)\n",
            "  Downloading pyee-11.1.0-py3-none-any.whl (15 kB)\n",
            "Requirement already satisfied: tqdm<5.0.0,>=4.42.1 in /usr/local/lib/python3.10/dist-packages (from pyppeteer>=0.0.14->requests-html) (4.66.2)\n",
            "Collecting urllib3<2.0.0,>=1.25.8 (from pyppeteer>=0.0.14->requests-html)\n",
            "  Downloading urllib3-1.26.18-py2.py3-none-any.whl (143 kB)\n",
            "\u001b[2K     \u001b[90m━━━━━━━━━━━━━━━━━━━━━━━━━━━━━━━━━━━━━━━━\u001b[0m \u001b[32m143.8/143.8 kB\u001b[0m \u001b[31m8.0 MB/s\u001b[0m eta \u001b[36m0:00:00\u001b[0m\n",
            "\u001b[?25hCollecting websockets<11.0,>=10.0 (from pyppeteer>=0.0.14->requests-html)\n",
            "  Downloading websockets-10.4-cp310-cp310-manylinux_2_5_x86_64.manylinux1_x86_64.manylinux_2_17_x86_64.manylinux2014_x86_64.whl (106 kB)\n",
            "\u001b[2K     \u001b[90m━━━━━━━━━━━━━━━━━━━━━━━━━━━━━━━━━━━━━━━━\u001b[0m \u001b[32m106.8/106.8 kB\u001b[0m \u001b[31m6.8 MB/s\u001b[0m eta \u001b[36m0:00:00\u001b[0m\n",
            "\u001b[?25hRequirement already satisfied: beautifulsoup4 in /usr/local/lib/python3.10/dist-packages (from bs4->requests-html) (4.12.3)\n",
            "Requirement already satisfied: lxml>=2.1 in /usr/local/lib/python3.10/dist-packages (from pyquery->requests-html) (4.9.4)\n",
            "Collecting cssselect>=1.2.0 (from pyquery->requests-html)\n",
            "  Downloading cssselect-1.2.0-py2.py3-none-any.whl (18 kB)\n",
            "Requirement already satisfied: charset-normalizer<4,>=2 in /usr/local/lib/python3.10/dist-packages (from requests->requests-html) (3.3.2)\n",
            "Requirement already satisfied: idna<4,>=2.5 in /usr/local/lib/python3.10/dist-packages (from requests->requests-html) (3.6)\n",
            "Requirement already satisfied: zipp>=0.5 in /usr/local/lib/python3.10/dist-packages (from importlib-metadata>=1.4->pyppeteer>=0.0.14->requests-html) (3.18.1)\n",
            "Requirement already satisfied: typing-extensions in /usr/local/lib/python3.10/dist-packages (from pyee<12.0.0,>=11.0.0->pyppeteer>=0.0.14->requests-html) (4.11.0)\n",
            "Requirement already satisfied: soupsieve>1.2 in /usr/local/lib/python3.10/dist-packages (from beautifulsoup4->bs4->requests-html) (2.5)\n",
            "Installing collected packages: parse, fake-useragent, websockets, w3lib, urllib3, pyee, cssselect, pyquery, pyppeteer, bs4, requests-html\n",
            "  Attempting uninstall: urllib3\n",
            "    Found existing installation: urllib3 2.0.7\n",
            "    Uninstalling urllib3-2.0.7:\n",
            "      Successfully uninstalled urllib3-2.0.7\n",
            "Successfully installed bs4-0.0.2 cssselect-1.2.0 fake-useragent-1.5.1 parse-1.20.1 pyee-11.1.0 pyppeteer-2.0.0 pyquery-2.0.0 requests-html-0.10.0 urllib3-1.26.18 w3lib-2.1.2 websockets-10.4\n"
          ]
        }
      ]
    },
    {
      "cell_type": "code",
      "source": [
        "!pip install pandas"
      ],
      "metadata": {
        "colab": {
          "base_uri": "https://localhost:8080/"
        },
        "id": "e73wmeNwbB5S",
        "outputId": "d5f39c2e-06d8-48da-ecf0-24b4be8c92ac"
      },
      "execution_count": null,
      "outputs": [
        {
          "output_type": "stream",
          "name": "stdout",
          "text": [
            "Requirement already satisfied: pandas in /usr/local/lib/python3.10/dist-packages (2.0.3)\n",
            "Requirement already satisfied: python-dateutil>=2.8.2 in /usr/local/lib/python3.10/dist-packages (from pandas) (2.8.2)\n",
            "Requirement already satisfied: pytz>=2020.1 in /usr/local/lib/python3.10/dist-packages (from pandas) (2023.4)\n",
            "Requirement already satisfied: tzdata>=2022.1 in /usr/local/lib/python3.10/dist-packages (from pandas) (2024.1)\n",
            "Requirement already satisfied: numpy>=1.21.0 in /usr/local/lib/python3.10/dist-packages (from pandas) (1.25.2)\n",
            "Requirement already satisfied: six>=1.5 in /usr/local/lib/python3.10/dist-packages (from python-dateutil>=2.8.2->pandas) (1.16.0)\n"
          ]
        }
      ]
    },
    {
      "cell_type": "code",
      "source": [
        "!pip install prophet"
      ],
      "metadata": {
        "colab": {
          "base_uri": "https://localhost:8080/"
        },
        "id": "kxBzCT_F_cVs",
        "outputId": "fca2340c-a634-4b1a-adb3-5efe08e3308c"
      },
      "execution_count": null,
      "outputs": [
        {
          "output_type": "stream",
          "name": "stdout",
          "text": [
            "Requirement already satisfied: prophet in /usr/local/lib/python3.10/dist-packages (1.1.5)\n",
            "Requirement already satisfied: cmdstanpy>=1.0.4 in /usr/local/lib/python3.10/dist-packages (from prophet) (1.2.2)\n",
            "Requirement already satisfied: numpy>=1.15.4 in /usr/local/lib/python3.10/dist-packages (from prophet) (1.25.2)\n",
            "Requirement already satisfied: matplotlib>=2.0.0 in /usr/local/lib/python3.10/dist-packages (from prophet) (3.7.1)\n",
            "Requirement already satisfied: pandas>=1.0.4 in /usr/local/lib/python3.10/dist-packages (from prophet) (2.0.3)\n",
            "Requirement already satisfied: holidays>=0.25 in /usr/local/lib/python3.10/dist-packages (from prophet) (0.46)\n",
            "Requirement already satisfied: tqdm>=4.36.1 in /usr/local/lib/python3.10/dist-packages (from prophet) (4.66.2)\n",
            "Requirement already satisfied: importlib-resources in /usr/local/lib/python3.10/dist-packages (from prophet) (6.4.0)\n",
            "Requirement already satisfied: stanio<2.0.0,>=0.4.0 in /usr/local/lib/python3.10/dist-packages (from cmdstanpy>=1.0.4->prophet) (0.5.0)\n",
            "Requirement already satisfied: python-dateutil in /usr/local/lib/python3.10/dist-packages (from holidays>=0.25->prophet) (2.8.2)\n",
            "Requirement already satisfied: contourpy>=1.0.1 in /usr/local/lib/python3.10/dist-packages (from matplotlib>=2.0.0->prophet) (1.2.1)\n",
            "Requirement already satisfied: cycler>=0.10 in /usr/local/lib/python3.10/dist-packages (from matplotlib>=2.0.0->prophet) (0.12.1)\n",
            "Requirement already satisfied: fonttools>=4.22.0 in /usr/local/lib/python3.10/dist-packages (from matplotlib>=2.0.0->prophet) (4.51.0)\n",
            "Requirement already satisfied: kiwisolver>=1.0.1 in /usr/local/lib/python3.10/dist-packages (from matplotlib>=2.0.0->prophet) (1.4.5)\n",
            "Requirement already satisfied: packaging>=20.0 in /usr/local/lib/python3.10/dist-packages (from matplotlib>=2.0.0->prophet) (24.0)\n",
            "Requirement already satisfied: pillow>=6.2.0 in /usr/local/lib/python3.10/dist-packages (from matplotlib>=2.0.0->prophet) (9.4.0)\n",
            "Requirement already satisfied: pyparsing>=2.3.1 in /usr/local/lib/python3.10/dist-packages (from matplotlib>=2.0.0->prophet) (3.1.2)\n",
            "Requirement already satisfied: pytz>=2020.1 in /usr/local/lib/python3.10/dist-packages (from pandas>=1.0.4->prophet) (2023.4)\n",
            "Requirement already satisfied: tzdata>=2022.1 in /usr/local/lib/python3.10/dist-packages (from pandas>=1.0.4->prophet) (2024.1)\n",
            "Requirement already satisfied: six>=1.5 in /usr/local/lib/python3.10/dist-packages (from python-dateutil->holidays>=0.25->prophet) (1.16.0)\n"
          ]
        }
      ]
    },
    {
      "cell_type": "code",
      "execution_count": null,
      "metadata": {
        "id": "bzXzavUCY6uP"
      },
      "outputs": [],
      "source": [
        "import requests\n",
        "from bs4 import BeautifulSoup\n",
        "import pandas as pd\n",
        "import re\n",
        "import time\n",
        "import json\n",
        "from datetime import datetime, timedelta\n",
        "from dateutil.relativedelta import relativedelta\n",
        "from prophet import Prophet\n",
        "import matplotlib.pyplot as plt\n",
        "import numpy as np"
      ]
    },
    {
      "cell_type": "code",
      "source": [
        "# Монтируем Google Диск\n",
        "from google.colab import drive\n",
        "drive.mount('/content/drive')"
      ],
      "metadata": {
        "colab": {
          "base_uri": "https://localhost:8080/"
        },
        "id": "1riSCCXpCOOU",
        "outputId": "814b09e9-4205-4453-fa8c-cfa47b146bab"
      },
      "execution_count": null,
      "outputs": [
        {
          "output_type": "stream",
          "name": "stdout",
          "text": [
            "Mounted at /content/drive\n"
          ]
        }
      ]
    },
    {
      "cell_type": "code",
      "source": [
        "pivot_df = pd.read_csv('/content/drive/MyDrive/trial/pivot_df.csv', sep = ';', encoding='Windows-1251', parse_dates = [0], index_col = [0]) #"
      ],
      "metadata": {
        "id": "C9rIyLeYlyaF"
      },
      "execution_count": null,
      "outputs": []
    },
    {
      "cell_type": "code",
      "source": [
        "solo_ipc = pivot_df[['1']].copy()"
      ],
      "metadata": {
        "id": "tZPRgy5-RHnk"
      },
      "execution_count": null,
      "outputs": []
    },
    {
      "cell_type": "code",
      "source": [
        "solo_ipc = df"
      ],
      "metadata": {
        "id": "kL2c-oxTck6-"
      },
      "execution_count": null,
      "outputs": []
    },
    {
      "cell_type": "code",
      "source": [
        "solo_ipc.rename(columns={1.0: 'y'}, inplace=True)\n",
        "solo_ipc.rename(columns={'Дата': 'ds'}, inplace=True)\n",
        "print(solo_ipc.head())"
      ],
      "metadata": {
        "colab": {
          "base_uri": "https://localhost:8080/"
        },
        "id": "2YT_s83Gc3SY",
        "outputId": "1d43c3d9-632b-46b2-cd6b-5535c4bc47bc"
      },
      "execution_count": null,
      "outputs": [
        {
          "output_type": "stream",
          "name": "stdout",
          "text": [
            "0         ds       y\n",
            "0 2002-01-01  103.09\n",
            "1 2002-02-01  101.16\n",
            "2 2002-03-01  101.08\n",
            "3 2002-04-01  101.16\n",
            "4 2002-05-01  101.69\n"
          ]
        }
      ]
    },
    {
      "cell_type": "code",
      "source": [
        "# Переименование столбца\n",
        "solo_ipc.rename(columns={'1': 'y'}, inplace=True)\n",
        "\n",
        "# Преобразование индекса в столбец с датой\n",
        "solo_ipc.reset_index(inplace=True)\n",
        "solo_ipc.rename(columns={'index': 'ds'}, inplace=True)\n",
        "\n",
        "# Проверка результатов\n",
        "print(solo_ipc.head())"
      ],
      "metadata": {
        "colab": {
          "base_uri": "https://localhost:8080/"
        },
        "id": "2LeqM1DmcprA",
        "outputId": "c90a0e15-93d0-40af-e27a-9994329da6fc"
      },
      "execution_count": null,
      "outputs": [
        {
          "output_type": "stream",
          "name": "stdout",
          "text": [
            "          ds       y\n",
            "0 2002-01-01  103.09\n",
            "1 2002-02-01  101.16\n",
            "2 2002-03-01  101.08\n",
            "3 2002-04-01  101.16\n",
            "4 2002-05-01  101.69\n"
          ]
        }
      ]
    },
    {
      "cell_type": "code",
      "source": [
        "# Переименование столбца\n",
        "solo_ipc.rename(columns={'1': 'y'}, inplace=True)\n",
        "\n",
        "# Преобразование индекса в столбец с датой\n",
        "solo_ipc.reset_index(inplace=True)\n",
        "solo_ipc.rename(columns={'index': 'ds'}, inplace=True)\n",
        "\n",
        "# Проверка результатов\n",
        "print(solo_ipc.head())"
      ],
      "metadata": {
        "colab": {
          "base_uri": "https://localhost:8080/"
        },
        "id": "OfyTsMTWASeV",
        "outputId": "5ef77bd7-5105-46b0-af27-58f661f54ea0"
      },
      "execution_count": null,
      "outputs": [
        {
          "output_type": "stream",
          "name": "stdout",
          "text": [
            "           ds       y\n",
            "0  2002-01-01  103.09\n",
            "1  2002-02-01  101.16\n",
            "2  2002-03-01  101.08\n",
            "3  2002-04-01  101.16\n",
            "4  2002-05-01  101.69\n"
          ]
        }
      ]
    },
    {
      "cell_type": "code",
      "source": [
        "import pandas as pd\n",
        "from prophet import Prophet\n",
        "import matplotlib.pyplot as plt\n",
        "\n",
        "# Уточнение дат\n",
        "start_date = '2002-01-01'\n",
        "end_date = '2024-03-01'\n",
        "forecast_start_date = '2024-04-01'\n",
        "forecast_end_date = '2024-09-01'\n",
        "\n",
        "# Создание экземпляра класса Prophet\n",
        "model = Prophet()\n",
        "\n",
        "# Обучение модели на данных из DataFrame solo_ipc\n",
        "model.fit(solo_ipc)\n",
        "\n",
        "# Создание DataFrame для прогноза\n",
        "future = model.make_future_dataframe(periods=6, freq='M', include_history=False)\n",
        "\n",
        "# Прогнозирование\n",
        "forecast = model.predict(future)\n",
        "\n",
        "# Визуализация прогноза\n",
        "fig = model.plot(forecast)\n",
        "\n",
        "# Фильтрация и визуализация данных с 2019 года\n",
        "solo_ipc_2019 = solo_ipc[solo_ipc['ds'] >= '2019-01-01']\n",
        "plt.scatter(solo_ipc_2019['ds'], solo_ipc_2019['y'], color='red', label='Данные с 2019 года')\n",
        "plt.legend(loc='upper left')\n",
        "plt.xlim(pd.Timestamp('2019-01-01'), pd.Timestamp(forecast_end_date))\n",
        "plt.show()\n"
      ],
      "metadata": {
        "id": "qKlFhrvaRHs1",
        "colab": {
          "base_uri": "https://localhost:8080/",
          "height": 817
        },
        "outputId": "cc35222f-e252-4ec2-bdc2-773dd563ca54"
      },
      "execution_count": null,
      "outputs": [
        {
          "output_type": "stream",
          "name": "stderr",
          "text": [
            "INFO:prophet:Disabling weekly seasonality. Run prophet with weekly_seasonality=True to override this.\n",
            "INFO:prophet:Disabling daily seasonality. Run prophet with daily_seasonality=True to override this.\n",
            "DEBUG:cmdstanpy:input tempfile: /tmp/tmp08fvrexa/hja_lazf.json\n",
            "DEBUG:cmdstanpy:input tempfile: /tmp/tmp08fvrexa/zoiad_2c.json\n",
            "DEBUG:cmdstanpy:idx 0\n",
            "DEBUG:cmdstanpy:running CmdStan, num_threads: None\n",
            "DEBUG:cmdstanpy:CmdStan args: ['/usr/local/lib/python3.10/dist-packages/prophet/stan_model/prophet_model.bin', 'random', 'seed=10317', 'data', 'file=/tmp/tmp08fvrexa/hja_lazf.json', 'init=/tmp/tmp08fvrexa/zoiad_2c.json', 'output', 'file=/tmp/tmp08fvrexa/prophet_model98goqwbb/prophet_model-20240414213602.csv', 'method=optimize', 'algorithm=lbfgs', 'iter=10000']\n",
            "21:36:02 - cmdstanpy - INFO - Chain [1] start processing\n",
            "INFO:cmdstanpy:Chain [1] start processing\n",
            "21:36:03 - cmdstanpy - INFO - Chain [1] done processing\n",
            "INFO:cmdstanpy:Chain [1] done processing\n"
          ]
        },
        {
          "output_type": "display_data",
          "data": {
            "text/plain": [
              "<Figure size 1000x600 with 1 Axes>"
            ],
            "image/png": "[encoded data removed]"
          },
          "metadata": {}
        }
      ]
    },
    {
      "cell_type": "code",
      "source": [
        "print(forecast)"
      ],
      "metadata": {
        "id": "BJE-yrGEigDH",
        "outputId": "64504da8-f502-41a1-81f5-7c517a3cecba",
        "colab": {
          "base_uri": "https://localhost:8080/",
          "height": 362
        }
      },
      "execution_count": null,
      "outputs": [
        {
          "output_type": "execute_result",
          "data": {
            "text/plain": [
              "          ds       trend  yhat_lower  yhat_upper  trend_lower  trend_upper  \\\n",
              "0 2024-02-29  100.745996  100.717275  102.139065   100.745996   100.745996   \n",
              "1 2024-03-31  100.753683   99.965587  101.456607   100.753683   100.753683   \n",
              "2 2024-04-30  100.761122  100.077556  101.556401   100.759717   100.761847   \n",
              "3 2024-05-31  100.768809   99.812622  101.240188   100.764776   100.771759   \n",
              "4 2024-06-30  100.776248   99.931747  101.354851   100.769836   100.783068   \n",
              "5 2024-07-31  100.783935   99.451480  100.867437   100.773280   100.795105   \n",
              "\n",
              "   additive_terms  additive_terms_lower  additive_terms_upper    yearly  \\\n",
              "0        0.694617              0.694617              0.694617  0.694617   \n",
              "1       -0.017028             -0.017028             -0.017028 -0.017028   \n",
              "2        0.002277              0.002277              0.002277  0.002277   \n",
              "3       -0.214515             -0.214515             -0.214515 -0.214515   \n",
              "4       -0.151544             -0.151544             -0.151544 -0.151544   \n",
              "5       -0.635726             -0.635726             -0.635726 -0.635726   \n",
              "\n",
              "   yearly_lower  yearly_upper  multiplicative_terms  \\\n",
              "0      0.694617      0.694617                   0.0   \n",
              "1     -0.017028     -0.017028                   0.0   \n",
              "2      0.002277      0.002277                   0.0   \n",
              "3     -0.214515     -0.214515                   0.0   \n",
              "4     -0.151544     -0.151544                   0.0   \n",
              "5     -0.635726     -0.635726                   0.0   \n",
              "\n",
              "   multiplicative_terms_lower  multiplicative_terms_upper        yhat  \n",
              "0                         0.0                         0.0  101.440612  \n",
              "1                         0.0                         0.0  100.736655  \n",
              "2                         0.0                         0.0  100.763398  \n",
              "3                         0.0                         0.0  100.554294  \n",
              "4                         0.0                         0.0  100.624704  \n",
              "5                         0.0                         0.0  100.148209  "
            ],
            "text/html": [
              "\n",
              "  <div id=\"df-9e4b36ea-4c2a-48a8-abc0-0c9fa0051d3e\" class=\"colab-df-container\">\n",
              "    <div>\n",
              "<style scoped>\n",
              "    .dataframe tbody tr th:only-of-type {\n",
              "        vertical-align: middle;\n",
              "    }\n",
              "\n",
              "    .dataframe tbody tr th {\n",
              "        vertical-align: top;\n",
              "    }\n",
              "\n",
              "    .dataframe thead th {\n",
              "        text-align: right;\n",
              "    }\n",
              "</style>\n",
              "<table border=\"1\" class=\"dataframe\">\n",
              "  <thead>\n",
              "    <tr style=\"text-align: right;\">\n",
              "      <th></th>\n",
              "      <th>ds</th>\n",
              "      <th>trend</th>\n",
              "      <th>yhat_lower</th>\n",
              "      <th>yhat_upper</th>\n",
              "      <th>trend_lower</th>\n",
              "      <th>trend_upper</th>\n",
              "      <th>additive_terms</th>\n",
              "      <th>additive_terms_lower</th>\n",
              "      <th>additive_terms_upper</th>\n",
              "      <th>yearly</th>\n",
              "      <th>yearly_lower</th>\n",
              "      <th>yearly_upper</th>\n",
              "      <th>multiplicative_terms</th>\n",
              "      <th>multiplicative_terms_lower</th>\n",
              "      <th>multiplicative_terms_upper</th>\n",
              "      <th>yhat</th>\n",
              "    </tr>\n",
              "  </thead>\n",
              "  <tbody>\n",
              "    <tr>\n",
              "      <th>0</th>\n",
              "      <td>2024-02-29</td>\n",
              "      <td>100.745996</td>\n",
              "      <td>100.717275</td>\n",
              "      <td>102.139065</td>\n",
              "      <td>100.745996</td>\n",
              "      <td>100.745996</td>\n",
              "      <td>0.694617</td>\n",
              "      <td>0.694617</td>\n",
              "      <td>0.694617</td>\n",
              "      <td>0.694617</td>\n",
              "      <td>0.694617</td>\n",
              "      <td>0.694617</td>\n",
              "      <td>0.0</td>\n",
              "      <td>0.0</td>\n",
              "      <td>0.0</td>\n",
              "      <td>101.440612</td>\n",
              "    </tr>\n",
              "    <tr>\n",
              "      <th>1</th>\n",
              "      <td>2024-03-31</td>\n",
              "      <td>100.753683</td>\n",
              "      <td>99.965587</td>\n",
              "      <td>101.456607</td>\n",
              "      <td>100.753683</td>\n",
              "      <td>100.753683</td>\n",
              "      <td>-0.017028</td>\n",
              "      <td>-0.017028</td>\n",
              "      <td>-0.017028</td>\n",
              "      <td>-0.017028</td>\n",
              "      <td>-0.017028</td>\n",
              "      <td>-0.017028</td>\n",
              "      <td>0.0</td>\n",
              "      <td>0.0</td>\n",
              "      <td>0.0</td>\n",
              "      <td>100.736655</td>\n",
              "    </tr>\n",
              "    <tr>\n",
              "      <th>2</th>\n",
              "      <td>2024-04-30</td>\n",
              "      <td>100.761122</td>\n",
              "      <td>100.077556</td>\n",
              "      <td>101.556401</td>\n",
              "      <td>100.759717</td>\n",
              "      <td>100.761847</td>\n",
              "      <td>0.002277</td>\n",
              "      <td>0.002277</td>\n",
              "      <td>0.002277</td>\n",
              "      <td>0.002277</td>\n",
              "      <td>0.002277</td>\n",
              "      <td>0.002277</td>\n",
              "      <td>0.0</td>\n",
              "      <td>0.0</td>\n",
              "      <td>0.0</td>\n",
              "      <td>100.763398</td>\n",
              "    </tr>\n",
              "    <tr>\n",
              "      <th>3</th>\n",
              "      <td>2024-05-31</td>\n",
              "      <td>100.768809</td>\n",
              "      <td>99.812622</td>\n",
              "      <td>101.240188</td>\n",
              "      <td>100.764776</td>\n",
              "      <td>100.771759</td>\n",
              "      <td>-0.214515</td>\n",
              "      <td>-0.214515</td>\n",
              "      <td>-0.214515</td>\n",
              "      <td>-0.214515</td>\n",
              "      <td>-0.214515</td>\n",
              "      <td>-0.214515</td>\n",
              "      <td>0.0</td>\n",
              "      <td>0.0</td>\n",
              "      <td>0.0</td>\n",
              "      <td>100.554294</td>\n",
              "    </tr>\n",
              "    <tr>\n",
              "      <th>4</th>\n",
              "      <td>2024-06-30</td>\n",
              "      <td>100.776248</td>\n",
              "      <td>99.931747</td>\n",
              "      <td>101.354851</td>\n",
              "      <td>100.769836</td>\n",
              "      <td>100.783068</td>\n",
              "      <td>-0.151544</td>\n",
              "      <td>-0.151544</td>\n",
              "      <td>-0.151544</td>\n",
              "      <td>-0.151544</td>\n",
              "      <td>-0.151544</td>\n",
              "      <td>-0.151544</td>\n",
              "      <td>0.0</td>\n",
              "      <td>0.0</td>\n",
              "      <td>0.0</td>\n",
              "      <td>100.624704</td>\n",
              "    </tr>\n",
              "    <tr>\n",
              "      <th>5</th>\n",
              "      <td>2024-07-31</td>\n",
              "      <td>100.783935</td>\n",
              "      <td>99.451480</td>\n",
              "      <td>100.867437</td>\n",
              "      <td>100.773280</td>\n",
              "      <td>100.795105</td>\n",
              "      <td>-0.635726</td>\n",
              "      <td>-0.635726</td>\n",
              "      <td>-0.635726</td>\n",
              "      <td>-0.635726</td>\n",
              "      <td>-0.635726</td>\n",
              "      <td>-0.635726</td>\n",
              "      <td>0.0</td>\n",
              "      <td>0.0</td>\n",
              "      <td>0.0</td>\n",
              "      <td>100.148209</td>\n",
              "    </tr>\n",
              "  </tbody>\n",
              "</table>\n",
              "</div>\n",
              "    <div class=\"colab-df-buttons\">\n",
              "\n",
              "  <div class=\"colab-df-container\">\n",
              "    <button class=\"colab-df-convert\" onclick=\"convertToInteractive('df-9e4b36ea-4c2a-48a8-abc0-0c9fa0051d3e')\"\n",
              "            title=\"Convert this dataframe to an interactive table.\"\n",
              "            style=\"display:none;\">\n",
              "\n",
              "  <svg xmlns=\"http://www.w3.org/2000/svg\" height=\"24px\" viewBox=\"0 -960 960 960\">\n",
              "    <path d=\"M120-120v-720h720v720H120Zm60-500h600v-160H180v160Zm220 220h160v-160H400v160Zm0 220h160v-160H400v160ZM180-400h160v-160H180v160Zm440 0h160v-160H620v160ZM180-180h160v-160H180v160Zm440 0h160v-160H620v160Z\"/>\n",
              "  </svg>\n",
              "    </button>\n",
              "\n",
              "  <style>\n",
              "    .colab-df-container {\n",
              "      display:flex;\n",
              "      gap: 12px;\n",
              "    }\n",
              "\n",
              "    .colab-df-convert {\n",
              "      background-color: #E8F0FE;\n",
              "      border: none;\n",
              "      border-radius: 50%;\n",
              "      cursor: pointer;\n",
              "      display: none;\n",
              "      fill: #1967D2;\n",
              "      height: 32px;\n",
              "      padding: 0 0 0 0;\n",
              "      width: 32px;\n",
              "    }\n",
              "\n",
              "    .colab-df-convert:hover {\n",
              "      background-color: #E2EBFA;\n",
              "      box-shadow: 0px 1px 2px rgba(60, 64, 67, 0.3), 0px 1px 3px 1px rgba(60, 64, 67, 0.15);\n",
              "      fill: #174EA6;\n",
              "    }\n",
              "\n",
              "    .colab-df-buttons div {\n",
              "      margin-bottom: 4px;\n",
              "    }\n",
              "\n",
              "    [theme=dark] .colab-df-convert {\n",
              "      background-color: #3B4455;\n",
              "      fill: #D2E3FC;\n",
              "    }\n",
              "\n",
              "    [theme=dark] .colab-df-convert:hover {\n",
              "      background-color: #434B5C;\n",
              "      box-shadow: 0px 1px 3px 1px rgba(0, 0, 0, 0.15);\n",
              "      filter: drop-shadow(0px 1px 2px rgba(0, 0, 0, 0.3));\n",
              "      fill: #FFFFFF;\n",
              "    }\n",
              "  </style>\n",
              "\n",
              "    <script>\n",
              "      const buttonEl =\n",
              "        document.querySelector('#df-9e4b36ea-4c2a-48a8-abc0-0c9fa0051d3e button.colab-df-convert');\n",
              "      buttonEl.style.display =\n",
              "        google.colab.kernel.accessAllowed ? 'block' : 'none';\n",
              "\n",
              "      async function convertToInteractive(key) {\n",
              "        const element = document.querySelector('#df-9e4b36ea-4c2a-48a8-abc0-0c9fa0051d3e');\n",
              "        const dataTable =\n",
              "          await google.colab.kernel.invokeFunction('convertToInteractive',\n",
              "                                                    [key], {});\n",
              "        if (!dataTable) return;\n",
              "\n",
              "        const docLinkHtml = 'Like what you see? Visit the ' +\n",
              "          '<a target=\"_blank\" href=https://colab.research.google.com/notebooks/data_table.ipynb>data table notebook</a>'\n",
              "          + ' to learn more about interactive tables.';\n",
              "        element.innerHTML = '';\n",
              "        dataTable['output_type'] = 'display_data';\n",
              "        await google.colab.output.renderOutput(dataTable, element);\n",
              "        const docLink = document.createElement('div');\n",
              "        docLink.innerHTML = docLinkHtml;\n",
              "        element.appendChild(docLink);\n",
              "      }\n",
              "    </script>\n",
              "  </div>\n",
              "\n",
              "\n",
              "<div id=\"df-5bab6b44-8d42-476a-8451-f961701a8c3d\">\n",
              "  <button class=\"colab-df-quickchart\" onclick=\"quickchart('df-5bab6b44-8d42-476a-8451-f961701a8c3d')\"\n",
              "            title=\"Suggest charts\"\n",
              "            style=\"display:none;\">\n",
              "\n",
              "<svg xmlns=\"http://www.w3.org/2000/svg\" height=\"24px\"viewBox=\"0 0 24 24\"\n",
              "     width=\"24px\">\n",
              "    <g>\n",
              "        <path d=\"M19 3H5c-1.1 0-2 .9-2 2v14c0 1.1.9 2 2 2h14c1.1 0 2-.9 2-2V5c0-1.1-.9-2-2-2zM9 17H7v-7h2v7zm4 0h-2V7h2v10zm4 0h-2v-4h2v4z\"/>\n",
              "    </g>\n",
              "</svg>\n",
              "  </button>\n",
              "\n",
              "<style>\n",
              "  .colab-df-quickchart {\n",
              "      --bg-color: #E8F0FE;\n",
              "      --fill-color: #1967D2;\n",
              "      --hover-bg-color: #E2EBFA;\n",
              "      --hover-fill-color: #174EA6;\n",
              "      --disabled-fill-color: #AAA;\n",
              "      --disabled-bg-color: #DDD;\n",
              "  }\n",
              "\n",
              "  [theme=dark] .colab-df-quickchart {\n",
              "      --bg-color: #3B4455;\n",
              "      --fill-color: #D2E3FC;\n",
              "      --hover-bg-color: #434B5C;\n",
              "      --hover-fill-color: #FFFFFF;\n",
              "      --disabled-bg-color: #3B4455;\n",
              "      --disabled-fill-color: #666;\n",
              "  }\n",
              "\n",
              "  .colab-df-quickchart {\n",
              "    background-color: var(--bg-color);\n",
              "    border: none;\n",
              "    border-radius: 50%;\n",
              "    cursor: pointer;\n",
              "    display: none;\n",
              "    fill: var(--fill-color);\n",
              "    height: 32px;\n",
              "    padding: 0;\n",
              "    width: 32px;\n",
              "  }\n",
              "\n",
              "  .colab-df-quickchart:hover {\n",
              "    background-color: var(--hover-bg-color);\n",
              "    box-shadow: 0 1px 2px rgba(60, 64, 67, 0.3), 0 1px 3px 1px rgba(60, 64, 67, 0.15);\n",
              "    fill: var(--button-hover-fill-color);\n",
              "  }\n",
              "\n",
              "  .colab-df-quickchart-complete:disabled,\n",
              "  .colab-df-quickchart-complete:disabled:hover {\n",
              "    background-color: var(--disabled-bg-color);\n",
              "    fill: var(--disabled-fill-color);\n",
              "    box-shadow: none;\n",
              "  }\n",
              "\n",
              "  .colab-df-spinner {\n",
              "    border: 2px solid var(--fill-color);\n",
              "    border-color: transparent;\n",
              "    border-bottom-color: var(--fill-color);\n",
              "    animation:\n",
              "      spin 1s steps(1) infinite;\n",
              "  }\n",
              "\n",
              "  @keyframes spin {\n",
              "    0% {\n",
              "      border-color: transparent;\n",
              "      border-bottom-color: var(--fill-color);\n",
              "      border-left-color: var(--fill-color);\n",
              "    }\n",
              "    20% {\n",
              "      border-color: transparent;\n",
              "      border-left-color: var(--fill-color);\n",
              "      border-top-color: var(--fill-color);\n",
              "    }\n",
              "    30% {\n",
              "      border-color: transparent;\n",
              "      border-left-color: var(--fill-color);\n",
              "      border-top-color: var(--fill-color);\n",
              "      border-right-color: var(--fill-color);\n",
              "    }\n",
              "    40% {\n",
              "      border-color: transparent;\n",
              "      border-right-color: var(--fill-color);\n",
              "      border-top-color: var(--fill-color);\n",
              "    }\n",
              "    60% {\n",
              "      border-color: transparent;\n",
              "      border-right-color: var(--fill-color);\n",
              "    }\n",
              "    80% {\n",
              "      border-color: transparent;\n",
              "      border-right-color: var(--fill-color);\n",
              "      border-bottom-color: var(--fill-color);\n",
              "    }\n",
              "    90% {\n",
              "      border-color: transparent;\n",
              "      border-bottom-color: var(--fill-color);\n",
              "    }\n",
              "  }\n",
              "</style>\n",
              "\n",
              "  <script>\n",
              "    async function quickchart(key) {\n",
              "      const quickchartButtonEl =\n",
              "        document.querySelector('#' + key + ' button');\n",
              "      quickchartButtonEl.disabled = true;  // To prevent multiple clicks.\n",
              "      quickchartButtonEl.classList.add('colab-df-spinner');\n",
              "      try {\n",
              "        const charts = await google.colab.kernel.invokeFunction(\n",
              "            'suggestCharts', [key], {});\n",
              "      } catch (error) {\n",
              "        console.error('Error during call to suggestCharts:', error);\n",
              "      }\n",
              "      quickchartButtonEl.classList.remove('colab-df-spinner');\n",
              "      quickchartButtonEl.classList.add('colab-df-quickchart-complete');\n",
              "    }\n",
              "    (() => {\n",
              "      let quickchartButtonEl =\n",
              "        document.querySelector('#df-5bab6b44-8d42-476a-8451-f961701a8c3d button');\n",
              "      quickchartButtonEl.style.display =\n",
              "        google.colab.kernel.accessAllowed ? 'block' : 'none';\n",
              "    })();\n",
              "  </script>\n",
              "</div>\n",
              "    </div>\n",
              "  </div>\n"
            ],
            "application/vnd.google.colaboratory.intrinsic+json": {
              "type": "dataframe",
              "variable_name": "forecast",
              "summary": "{\n  \"name\": \"forecast\",\n  \"rows\": 6,\n  \"fields\": [\n    {\n      \"column\": \"ds\",\n      \"properties\": {\n        \"dtype\": \"date\",\n        \"min\": \"2024-02-29 00:00:00\",\n        \"max\": \"2024-07-31 00:00:00\",\n        \"num_unique_values\": 6,\n        \"samples\": [\n          \"2024-02-29 00:00:00\",\n          \"2024-03-31 00:00:00\",\n          \"2024-07-31 00:00:00\"\n        ],\n        \"semantic_type\": \"\",\n        \"description\": \"\"\n      }\n    },\n    {\n      \"column\": \"trend\",\n      \"properties\": {\n        \"dtype\": \"number\",\n        \"std\": 0.014169287250437883,\n        \"min\": 100.74599554779792,\n        \"max\": 100.7839350118942,\n        \"num_unique_values\": 6,\n        \"samples\": [\n          100.74599554779792,\n          100.7536826287586,\n          100.7839350118942\n        ],\n        \"semantic_type\": \"\",\n        \"description\": \"\"\n      }\n    },\n    {\n      \"column\": \"yhat_lower\",\n      \"properties\": {\n        \"dtype\": \"number\",\n        \"std\": 0.41521259085008216,\n        \"min\": 99.45147953542005,\n        \"max\": 100.71727488896433,\n        \"num_unique_values\": 6,\n        \"samples\": [\n          100.71727488896433,\n          99.96558664759654,\n          99.45147953542005\n        ],\n        \"semantic_type\": \"\",\n        \"description\": \"\"\n      }\n    },\n    {\n      \"column\": \"yhat_upper\",\n      \"properties\": {\n        \"dtype\": \"number\",\n        \"std\": 0.418906188426788,\n        \"min\": 100.86743695509752,\n        \"max\": 102.13906463579647,\n        \"num_unique_values\": 6,\n        \"samples\": [\n          102.13906463579647,\n          101.45660719259924,\n          100.86743695509752\n        ],\n        \"semantic_type\": \"\",\n        \"description\": \"\"\n      }\n    },\n    {\n      \"column\": \"trend_lower\",\n      \"properties\": {\n        \"dtype\": \"number\",\n        \"std\": 0.01022911179043993,\n        \"min\": 100.74599554779792,\n        \"max\": 100.77327988285285,\n        \"num_unique_values\": 6,\n        \"samples\": [\n          100.74599554779792,\n          100.7536826287586,\n          100.77327988285285\n        ],\n        \"semantic_type\": \"\",\n        \"description\": \"\"\n      }\n    },\n    {\n      \"column\": \"trend_upper\",\n      \"properties\": {\n        \"dtype\": \"number\",\n        \"std\": 0.018444030006991956,\n        \"min\": 100.74599554779792,\n        \"max\": 100.79510497218016,\n        \"num_unique_values\": 6,\n        \"samples\": [\n          100.74599554779792,\n          100.7536826287586,\n          100.79510497218016\n        ],\n        \"semantic_type\": \"\",\n        \"description\": \"\"\n      }\n    },\n    {\n      \"column\": \"additive_terms\",\n      \"properties\": {\n        \"dtype\": \"number\",\n        \"std\": 0.43327705860910304,\n        \"min\": -0.6357257590439821,\n        \"max\": 0.6946167112385045,\n        \"num_unique_values\": 6,\n        \"samples\": [\n          0.6946167112385045,\n          -0.01702757658163309,\n          -0.6357257590439821\n        ],\n        \"semantic_type\": \"\",\n        \"description\": \"\"\n      }\n    },\n    {\n      \"column\": \"additive_terms_lower\",\n      \"properties\": {\n        \"dtype\": \"number\",\n        \"std\": 0.43327705860910304,\n        \"min\": -0.6357257590439821,\n        \"max\": 0.6946167112385045,\n        \"num_unique_values\": 6,\n        \"samples\": [\n          0.6946167112385045,\n          -0.01702757658163309,\n          -0.6357257590439821\n        ],\n        \"semantic_type\": \"\",\n        \"description\": \"\"\n      }\n    },\n    {\n      \"column\": \"additive_terms_upper\",\n      \"properties\": {\n        \"dtype\": \"number\",\n        \"std\": 0.43327705860910304,\n        \"min\": -0.6357257590439821,\n        \"max\": 0.6946167112385045,\n        \"num_unique_values\": 6,\n        \"samples\": [\n          0.6946167112385045,\n          -0.01702757658163309,\n          -0.6357257590439821\n        ],\n        \"semantic_type\": \"\",\n        \"description\": \"\"\n      }\n    },\n    {\n      \"column\": \"yearly\",\n      \"properties\": {\n        \"dtype\": \"number\",\n        \"std\": 0.43327705860910304,\n        \"min\": -0.6357257590439821,\n        \"max\": 0.6946167112385045,\n        \"num_unique_values\": 6,\n        \"samples\": [\n          0.6946167112385045,\n          -0.01702757658163309,\n          -0.6357257590439821\n        ],\n        \"semantic_type\": \"\",\n        \"description\": \"\"\n      }\n    },\n    {\n      \"column\": \"yearly_lower\",\n      \"properties\": {\n        \"dtype\": \"number\",\n        \"std\": 0.43327705860910304,\n        \"min\": -0.6357257590439821,\n        \"max\": 0.6946167112385045,\n        \"num_unique_values\": 6,\n        \"samples\": [\n          0.6946167112385045,\n          -0.01702757658163309,\n          -0.6357257590439821\n        ],\n        \"semantic_type\": \"\",\n        \"description\": \"\"\n      }\n    },\n    {\n      \"column\": \"yearly_upper\",\n      \"properties\": {\n        \"dtype\": \"number\",\n        \"std\": 0.43327705860910304,\n        \"min\": -0.6357257590439821,\n        \"max\": 0.6946167112385045,\n        \"num_unique_values\": 6,\n        \"samples\": [\n          0.6946167112385045,\n          -0.01702757658163309,\n          -0.6357257590439821\n        ],\n        \"semantic_type\": \"\",\n        \"description\": \"\"\n      }\n    },\n    {\n      \"column\": \"multiplicative_terms\",\n      \"properties\": {\n        \"dtype\": \"number\",\n        \"std\": 0.0,\n        \"min\": 0.0,\n        \"max\": 0.0,\n        \"num_unique_values\": 1,\n        \"samples\": [\n          0.0\n        ],\n        \"semantic_type\": \"\",\n        \"description\": \"\"\n      }\n    },\n    {\n      \"column\": \"multiplicative_terms_lower\",\n      \"properties\": {\n        \"dtype\": \"number\",\n        \"std\": 0.0,\n        \"min\": 0.0,\n        \"max\": 0.0,\n        \"num_unique_values\": 1,\n        \"samples\": [\n          0.0\n        ],\n        \"semantic_type\": \"\",\n        \"description\": \"\"\n      }\n    },\n    {\n      \"column\": \"multiplicative_terms_upper\",\n      \"properties\": {\n        \"dtype\": \"number\",\n        \"std\": 0.0,\n        \"min\": 0.0,\n        \"max\": 0.0,\n        \"num_unique_values\": 1,\n        \"samples\": [\n          0.0\n        ],\n        \"semantic_type\": \"\",\n        \"description\": \"\"\n      }\n    },\n    {\n      \"column\": \"yhat\",\n      \"properties\": {\n        \"dtype\": \"number\",\n        \"std\": 0.4205887559784709,\n        \"min\": 100.14820925285022,\n        \"max\": 101.44061225903643,\n        \"num_unique_values\": 6,\n        \"samples\": [\n          101.44061225903643\n        ],\n        \"semantic_type\": \"\",\n        \"description\": \"\"\n      }\n    }\n  ]\n}"
            }
          },
          "metadata": {},
          "execution_count": 121
        }
      ]
    }
  ]
}